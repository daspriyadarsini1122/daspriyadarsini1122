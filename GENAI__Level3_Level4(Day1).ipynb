{
  "nbformat": 4,
  "nbformat_minor": 0,
  "metadata": {
    "colab": {
      "provenance": [],
      "authorship_tag": "ABX9TyP1sApyYXf6HpUPLxI/3r7N",
      "include_colab_link": true
    },
    "kernelspec": {
      "name": "python3",
      "display_name": "Python 3"
    },
    "language_info": {
      "name": "python"
    }
  },
  "cells": [
    {
      "cell_type": "markdown",
      "metadata": {
        "id": "view-in-github",
        "colab_type": "text"
      },
      "source": [
        "<a href=\"https://colab.research.google.com/github/daspriyadarsini1122/daspriyadarsini1122/blob/master/GENAI__Level3_Level4(Day1).ipynb\" target=\"_parent\"><img src=\"https://colab.research.google.com/assets/colab-badge.svg\" alt=\"Open In Colab\"/></a>"
      ]
    },
    {
      "cell_type": "markdown",
      "source": [
        "Artificial Intelligence(AI):\n",
        "\n",
        "-> AI involves techniques that equip computers to imulate human behaviour, enabling them to learn, make decisions, recognize patterns and solve complex problemsin a manner akin to human intelligence.\n",
        "          |\n",
        "   Machine Learning(ML):\n",
        "-> ML is a subset of AI, uses advanced algorithims to detect patterns in large data sets, allowing machines to learn and adapt. ML algorthims use supervised or unsupervised learning methods.\n",
        "          |\n",
        "    Deep Learning:\n",
        "-> DL is a subset of ML which uses neural networks for in-depth data processing and analytical tasks. DL leverages multiple layers of artificial neural networks to extract high level features from raw input data, simulating the way human brains perceive & understand the world.\n",
        "          |\n",
        "    Generative AI:\n",
        "-> Gen AI is a subset of DL models that generates contents like text, images or code based on provided input. Trained on vast data sets, these models detect patterns and create outputswithout explicit instruction, using a mix of supervised and unsupervised learning.\n",
        "          |\n",
        "  Large Language Model(LLM):\n",
        "Its a subtopic in Gen AI (Gemini(google), claude, mistral, LLama(fb))\n",
        "          |\n",
        "       ChatGPT"
      ],
      "metadata": {
        "id": "IifSC7YGCKqX"
      }
    },
    {
      "cell_type": "markdown",
      "source": [
        "Genrative AI\n",
        "     |\n",
        "AI Chatbots/Video bots/ Data Analyst\n",
        "     |\n",
        "Large Language Models\n",
        "     |\n",
        "Neural Networks and Deep Learning and RLHF\n",
        "     |\n",
        "Transformers and Self-attention"
      ],
      "metadata": {
        "id": "dZf0egnoqhg4"
      }
    },
    {
      "cell_type": "markdown",
      "source": [
        "**The 6 Layers of Generative AI Technology Stack**\n",
        "***Technology stack - Google AI - Definition ***\n",
        "\n",
        "-> Applications - Generative AI App builder - Apps to generate natural language responses to a wide variety of questions and prompts, such as chatbots & translators. But factuality is vital to minimize hallucinations and ground the model in reality\n",
        "-> API  - PaLM API- APIs for professional developers(an entry point for Google's LLms to build a variety of applications) and hobbyists\n",
        "-> Large language Model - PaLM family of models - Pre-trained general purpose language models, can be fine-tuned for specific tasks. Designed to perform generic language tasks, such as language translation, summarization, or dialogue generation.\n",
        "-> ML foundation model - ULM - Pre-trained general purpose versatile language models. Can be fine-tuned for a variety of downstream NLP tasks, such as text classification or sentiment analysis.\n",
        "-> Architecture - Transformer - A neural network architecture for natural language processing (NLP) tasks that unlocks two key capabilities i) decision making & ii) attention span , that can be summarized with a single concept of self-attention\n",
        "-> Infrastructure - TPU clusters - Tensor Processing Units are specifically designed for deep learning workloads and optimized for performing matrix operations, which are commonly used in neural networks."
      ],
      "metadata": {
        "id": "cfrZvlDZAwYu"
      }
    },
    {
      "cell_type": "markdown",
      "source": [
        "**Different terminology**\n",
        "\n",
        "Artificial Intelligence: Means creating smart machines to mimic human behaviour\n",
        "\n",
        "Machine learning: Is a subset of AI & builds model based on training data to make predictions\n",
        "\n",
        "Deep learning: Is a subset of ML. A class of ML algorithims to solve complex problems.\n",
        "\n",
        "Data science: A subset of AI, an area of statistics , scientific methods etc to extract and insights from data.\n"
      ],
      "metadata": {
        "id": "WJe-CuNCMtcN"
      }
    },
    {
      "cell_type": "markdown",
      "source": [
        "**Artificial Intelligence - General Intelligence - Strong AI - Broad AI**\n",
        "\n",
        "-> Machines that mimic the cognitive functions that humans associate with other human minds, such as \"complete learning\" and \"problem solving\".\n",
        "-> This is Strong AI or full AI\n",
        "-> General AI or Full AI is the complete cognitive abilities and decision making sensory range of properties that human's have.\n",
        "-> Nobody in the world has successfully make products in General AI, the likes of - think arnold schwarzenegger in terminator or Chitti in Robot 1.\n",
        "\n",
        "** Examples of Applied AI - Weak AI - Narrow AI**\n",
        "\n",
        "-> Domain specific chatbots like any immigration help system.\n",
        "-> Amazon's recommendation engine\n",
        "-> deep blue the first computer based chess playing champion\n",
        "-> The Advanced Driver Assisted Systems(ADAS)\n",
        "-> amazon's \"echo dot\" and \" echo plus' voice, recognition systems.\n",
        "-> NEST home connectivity startup acquired by google in 2014.\n",
        "-> Pandora Internet Radio is a music streaming service powered by the Music Genome Project\n",
        "-> Deep mind of Google is now in Applied AI, but they want to keep their mind on General AI as well https://deepmind.com/about/"
      ],
      "metadata": {
        "id": "lp4i6rznEn9R"
      }
    },
    {
      "cell_type": "markdown",
      "source": [
        "**Different ways of looking AI & GEN AI**\n",
        "\n",
        "->Traditional AI -> Classification , regression, clustering etc...(predictive analytics, pattern matching, data mining & statistical analysis)\n",
        "-> Modern AI & Ml -> Deep learning & neural networks, Reinforcement learning and Genetic Algorithims -( data is huge - 100000 to 1000000 datasets, build large models, performance metrix are extremely good, use more computation & energy, is able to solve more complex and even tackle even un-solved problems)\n",
        "-> GenAI - LLMs - Based on Deep learning & Neural networks - Create solution & create something from scratch\n",
        "-> Skills needed : Machine learning, Statistics, programming(CS), and Domain Expertise(SME)"
      ],
      "metadata": {
        "id": "cku3d4GMNU3H"
      }
    },
    {
      "cell_type": "markdown",
      "source": [
        "**Three levels of AI Usage**\n",
        "\n",
        "-> Level1 - using AI tools - Learn to use them as a normal user\n",
        "i) AI as a common user\n",
        "ii) Mostly on prompt engineering\n",
        "iii) AI as an informed subject matter expert\n",
        "-> Level2 - using tools as an application developer\n",
        "i) Embedding AI in your application - API programming using NLP\n",
        "ii) Using the LLm in project, partial fine tuning an LLM\n",
        "-> Level3 - using AI as an AI & ML , GenAI & LLM developer\n",
        "i) Full fledged development of LLms, library development\n",
        "ii) Reinforcement learning, testing & training models, computer vision and speech models\n",
        "iii) Using the LLM in project , full fledged fine tuning an LLM"
      ],
      "metadata": {
        "id": "ScU-HpcmQFTX"
      }
    },
    {
      "cell_type": "markdown",
      "source": [
        "**The machine learning framework**\n",
        "\n",
        "-> Apply a prediction function to a feature representation of the image to get the desired output like 🇱\n",
        "f(apple image) = \"apple\"\n",
        "f(tomato image) = \"tomato\"\n",
        "f(cow image ) = \"cow\"\n",
        "\n",
        "-> Training: Given a training set of lebeled examples{(x1, y1),...,(xNyN)}, estimate the prediction function f by minimizing the prediction error on the training set\n",
        "\n",
        "-> Testing: Apply f to a never before seen test example x and output the predicted value y = f(x)\n",
        "\n",
        "** What is what in ML**\n",
        "->In machine learning the pictures or words or actual numbers are the DATA - this is 'x' the input variable.\n",
        "-> The names you gave for those pictures - LABELS or OUTPUT -- labeled output\n",
        "-> Program writing in python, R or C++ -- LEARNING ALGORITHIM -- this is the program you write in Python\n",
        "-> The equations which you have built - the model of an apple you have in mind - MODEL - The model is also the function \"f\"\n",
        "-> Then when a real apple is then shown to you, then you say it is an apple, this is the - this is 'y' PREDICTED OUTPUT.\n"
      ],
      "metadata": {
        "id": "0AbLqD_8Xy96"
      }
    },
    {
      "cell_type": "markdown",
      "source": [
        "**Styles of Learning**\n",
        "-> Supervised: Data has known labels or output(Insurance underwriting, Fraud detection)\n",
        "-> Unsupervised: Labels or output unknown. Focus on finding patterns and gaining insight from the data(Customer clustering, Association rule mining)\n",
        "-> Semi-Supervised: Labels or output known for a subset of data. A blend of supervised and unsupervised learning(Medical predictions(Where tests and expert diagnoses are expensive, and only part of the population receives them))\n",
        "-> Reinforcement: Focus on making decisions based on previous experience. Policy making with feedback.(Game AI, Complex decision problems, Reward systems)"
      ],
      "metadata": {
        "id": "iV2P1FtAgMoc"
      }
    },
    {
      "cell_type": "markdown",
      "source": [
        "**Follow the below code**\n",
        "\n",
        "aiandml/machine_learning_algorithms_using_frameworks/notebooks\n",
        "/salary_regression_linear_regression_frameworks.ipynb\n"
      ],
      "metadata": {
        "id": "zUwASH7am6-I"
      }
    },
    {
      "cell_type": "code",
      "source": [],
      "metadata": {
        "id": "_K6Cy6RNO7ll"
      },
      "execution_count": null,
      "outputs": []
    }
  ]
}