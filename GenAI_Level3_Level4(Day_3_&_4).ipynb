{
  "nbformat": 4,
  "nbformat_minor": 0,
  "metadata": {
    "colab": {
      "provenance": [],
      "authorship_tag": "ABX9TyP1K3ZGmpCFGC/vOQqVcEcu",
      "include_colab_link": true
    },
    "kernelspec": {
      "name": "python3",
      "display_name": "Python 3"
    },
    "language_info": {
      "name": "python"
    }
  },
  "cells": [
    {
      "cell_type": "markdown",
      "metadata": {
        "id": "view-in-github",
        "colab_type": "text"
      },
      "source": [
        "<a href=\"https://colab.research.google.com/github/daspriyadarsini1122/daspriyadarsini1122/blob/master/GenAI_Level3_Level4(Day_3_%26_4).ipynb\" target=\"_parent\"><img src=\"https://colab.research.google.com/assets/colab-badge.svg\" alt=\"Open In Colab\"/></a>"
      ]
    },
    {
      "cell_type": "markdown",
      "source": [
        "**Follow Chris Albon flashcard**"
      ],
      "metadata": {
        "id": "IXGrDgKns9eM"
      }
    },
    {
      "cell_type": "markdown",
      "source": [
        "**Classification problem - real examples**\n",
        "\n",
        "-> Email spam prediction - Predicting if the mail is spam or harm.\n",
        "-> Churn prediction - predicting if the customer of the telecommunication service provider will stay or leave.\n",
        "-> Conversion prediction - predicting if the customer will buy or not.\n",
        "-> Detecting the type of flower in the garden - Iris Setosa, Iris Versicolour or Iris Virginica\n",
        "-> Digit recognition system - predicting the digits from 0 to 9.\n",
        "-> Object recognition system on car - predicting if the object on the road is a human , car, truck, two-wheeler,bus.\n",
        "-> Predicting if the student will get university admission or not.\n",
        "-> 75% of world's ML problems are either regression or classification.\n",
        "\n",
        "**Regression problems - real world examples**\n",
        "\n",
        "-> Predicting the CGPA of the student in the current semester.\n",
        "-> Predicting the housing price for the customer.\n",
        "-> Predicting the sales for this quarter.\n",
        "-> Predicting the salary based on experience, domain and skills.\n",
        "-> Stock price prediction\n",
        "-> Predicting the mileage or miles per gallon for a car or a two-wheeler."
      ],
      "metadata": {
        "id": "nBk6iAAZUphC"
      }
    },
    {
      "cell_type": "markdown",
      "source": [
        "-> In the output, we saw the red points circulated to the yellow line. The difference we saw here is the errors.\n",
        "Error is the difference between the expected & the actual.\n",
        "-> Take the square & error it. So the negative doesn't come into picture. Add th errors of each point & take the average of those errors & then You minimize the error.There are methods to find maximum & minimum.Apply those.\n",
        "-> Salary_regression_linear_regression_frameworks_mae.py(Mean absolute error)\n",
        "-> level encoding - Python files/iris_classification_knn_frameworks.py\n",
        "-> A prompt for model creation in chatgpt : I have a dataset of experience vs salary given above. Can you build a linear regression model using sklearn linear regression and draw the model for me. After creating a model predict the salary for 9 years to experience. Also please draw the model in distinct colours So I can relate easily.\n"
      ],
      "metadata": {
        "id": "t2PiZbbeaoSg"
      }
    },
    {
      "cell_type": "markdown",
      "source": [
        "-> Bankloan_classification_KNN_frameworks & dataset is \"bankloan_classification_train.csv\"\n",
        "-> KNN Classification - Distance(D) = rootover of (x1-x2)**2 + rootover of (y1-y2)**2(Euclidean Distance)\n",
        "\n",
        "**Why is performance of a model poor?**\n",
        "\n",
        "-> Dataset is not of good quality or quantity\n",
        "-> The algorithm/ model is not sufficient - Change the algorithm\n",
        "-> The model parameters(hyper parameters are not correct or optimum)\n",
        "-> Here we find out the similarity major. There are three types of similarity major.\n",
        "i) Euclidean major\n",
        "ii) Manhattan major\n",
        "iii) Minkowski major\n",
        "-> Normalized distance(Xs) = (X - Min)/ Max - Min\n",
        "-> To check the accuracy : bankloan_classification_knn_frameworks_accuracy.py"
      ],
      "metadata": {
        "id": "w5Lqcml01m10"
      }
    },
    {
      "cell_type": "markdown",
      "source": [
        "-> Accuracy : Overall, how often is the classifier correct ? = True positive(TP) + True negative(TN)/total\n",
        "-> Misclassification Rate : Overall , how often is it wrong ? = False positive(FP) + False negative(FN)/ total\n",
        "-> Equivalent to 1 minus Accuracy.\n",
        "-> also known as \"Error Rate\"\n",
        "-> True positive Rate or Sensitivity or Recall: When it's actually yes, how often does it predict yes? TP/actual yes\n",
        "-> False positive Rate: When it's actually no, how often does it predict yes? FP/actual no\n",
        "-> If both of the value are same : Then it's balanced or we can say a good data type & possibly the accuracy is more.\n",
        "->The example of it is pima_indians_classification_logistic_regression_frameworks_confusion_matrix.py & the report is pima_indians_classification_logistic_regression_frameworks_classification_report.py\n"
      ],
      "metadata": {
        "id": "_rsvu3YqXx92"
      }
    },
    {
      "cell_type": "markdown",
      "source": [
        "**Receiver Operating Characteristic(ROC)**\n",
        "\n",
        "-> Shows the true positive and false positive rate for every probability threshold of a binary classifier.\n",
        "-> The higher the upper curve line(ROC) the better result"
      ],
      "metadata": {
        "id": "9iYHGreEs7gL"
      }
    }
  ]
}