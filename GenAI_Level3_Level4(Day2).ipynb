{
  "nbformat": 4,
  "nbformat_minor": 0,
  "metadata": {
    "colab": {
      "provenance": [],
      "authorship_tag": "ABX9TyPfNNhJ/BxS/gLvX+WB8LXe",
      "include_colab_link": true
    },
    "kernelspec": {
      "name": "python3",
      "display_name": "Python 3"
    },
    "language_info": {
      "name": "python"
    }
  },
  "cells": [
    {
      "cell_type": "markdown",
      "metadata": {
        "id": "view-in-github",
        "colab_type": "text"
      },
      "source": [
        "<a href=\"https://colab.research.google.com/github/daspriyadarsini1122/daspriyadarsini1122/blob/master/GenAI_Level3_Level4(Day2).ipynb\" target=\"_parent\"><img src=\"https://colab.research.google.com/assets/colab-badge.svg\" alt=\"Open In Colab\"/></a>"
      ]
    },
    {
      "cell_type": "markdown",
      "source": [
        "**Learning algorithms(Language used mainly: Python, Julia, C++, R)**(Previous class was input to learning Algorithim)\n",
        "-> If have many variable & predicting salary, its called multivariant linear regression regression.(like the position, company, starting salary)\n",
        "-> The data are given in many format (like csv, tsv, json, .txt, xml, .xlsx)- Most of the time its CSV file.\n",
        "-> Refer the following code -> aiandml/machine_learning_algorithms_using_frameworks/python_files\n",
        "/salary_regression_linear_regression_frameworks.py\n",
        "\n",
        "AND\n",
        "For dataset: datasets/salary_regression_train.csv\n",
        "-> here input is the CSV file(dataset) & output is the model(This is the life cycle of Machine learning model)\n",
        "-> In training , with the help of learning algorithim we are converting the input data into a model.\n",
        "-> search the train_test_split , will get the libraries from scikit learn.\n",
        "-> This is an uni-variant algorithm, because it depends on the only one factor which is years of experience.Like these there are many types of algorithm."
      ],
      "metadata": {
        "id": "4m0JDD-Z3nFR"
      }
    },
    {
      "cell_type": "markdown",
      "source": [
        "**Model Vs Technique or approach Vs Learning Paradigm Vs Algorithm**\n",
        "\n",
        "-> Technique is the general approach/ task is been applied to data. i.e whcih you aim to do(e.g., classification, regression, clustering)\n",
        "-> Model is the specific learned function(with fit parameters and structures) that performs that task on new data.\n",
        "-> Classification and Regression are techniques/tasks.They describe what you are trying to do. A model is a specific trained function that does it.\n",
        "-> In the above example, it uses the supervised learning by giving the model both input & output data.(because its the learning stage)\n",
        "-> In step6, only the input is given, because here the model predicts the output after the learning phase.\n",
        "-> random_state can be changed accordingly.\n",
        "-> There are two types of fine tuning. i)parameter fine-tuning ii) hyper-parameter fine tuning.\n",
        "-> After running this program, will get the output like The parameters of the model are : ( We can fine tune this)\n",
        "\n",
        "**Traditional Learning Paradigms**\n",
        "-> Supervised ( Classification, regression) - Given a sample consisting of object-label pairs(xi,yi), find the predictive relationship between objects & labels.\n",
        "-> Unsupervised - Is a class of Supervised learning tasks and techniques that also make use of unlabeled data for training - typically a small amount of labeled data with a large amount of unlabeled data.(Given a sample consisting of only objects, look for interesting structures in the data, and group similar objects)\n",
        "-> Semi-Supervised(Supervised learning+Additional unlabeled data, Unsupervised learning+ Additional labeled data)\n",
        "-> Self-Supervised\n",
        "-> Reinforcement\n",
        "\n",
        "**Modern learning paradigms**\n",
        "\n",
        "-> Transfer learning\n",
        "-> Batch learning\n",
        "-> Online learning\n",
        "-> Meta learning\n",
        "-> Active learning"
      ],
      "metadata": {
        "id": "MUsiPY0TBZlo"
      }
    },
    {
      "cell_type": "markdown",
      "source": [
        "**Machine learning techniques - a comparison with humans**\n",
        "\n",
        "-> Classification or Categorization : Predict the class of data\n",
        "-> Regression : Predict a numerical value, continuouslynvarying value\n",
        "-> Clustering : Group items or products or customers to different meaningful groups\n",
        "-> Recommendation : Show similar items & products\n",
        "-> Association Rule mining : Associate a new item with already selected items\n",
        "-> Time Series Analysis: Analyze & extract knowledge from chronological data\n",
        "-> Dimensionality Reduction: Choose the most important features\n",
        "-> Density estimation: Fit an appropriate distribution for the given data to gather density and peak information\n",
        "-> Ensemble learning: Combine many methods to get a best result\n",
        "-> Outlier detection or Novelty detection or anomaly detection: Find the odd man out in the given data.\n",
        "-> Neural networks & deep learning: Simulate the way the brain works and find a solution to a problem.\n",
        "-> Ranking : Top 10 movies, Top 10 songs, Top 10 stocks to pick, Top 10 colleges to study\n",
        "-> Reinforcement learning: Learn from criticism & praise\n",
        "-> Genetic Algorithms: Understand how the genes retain and keep information & improvise.\n",
        "-> Generative Modeling: Is a machine learning approach where a model learns the underlying patterns of data so it can generate new, realistic examples that resemble the original data.\n",
        "-> Causal Inference: The act of using data & method to determine whether and finding out if one directly causes a change in another, rather than just being co-related with it.\n",
        "-> Similar to regression is correlation and causation.\n",
        "Example: Lack of RAM->causation(Phone freezes <-Corelation-> Text messaging won't work)"
      ],
      "metadata": {
        "id": "v996DEHRSzuc"
      }
    },
    {
      "cell_type": "markdown",
      "source": [
        "**Regressions**\n",
        "\n",
        "-> Simple Linear Regression (y = b0+b1x1)\n",
        "-> Multiple Linear Regression(y = b0+b1x1+b2x2+....+bnxn)\n",
        "-> Polynomial Linear Regression (y = b0+b1x1+b2x1**2+...bnx1**n)"
      ],
      "metadata": {
        "id": "tlMvnxhleo9c"
      }
    },
    {
      "cell_type": "markdown",
      "source": [
        "**House price prediction linear regression**\n",
        "\n",
        "-> This is a multi-variant algorithm\n",
        "machine_learning_algorithms_using_frameworks/python_files/regression/house_price_prediction/house_price_prediction_linear_regression_frameworks.py"
      ],
      "metadata": {
        "id": "HYTA7olHiTI6"
      }
    },
    {
      "cell_type": "code",
      "source": [
        "\n",
        "# python implementation of multivariate linear Regression on using house price prediction dataset\n",
        "\n",
        "# step 1: import the libraries\n",
        "import numpy as np\n",
        "import matplotlib.pyplot as plt\n",
        "import pandas as pd\n",
        "from sklearn.model_selection import train_test_split\n",
        "from sklearn.linear_model import LinearRegression\n",
        "from sklearn.metrics import mean_squared_error\n",
        "\n",
        "# step 2: reading the data and splitting it to input and output\n",
        "dataset = pd.read_csv('https://raw.githubusercontent.com/enuguru/aiandml/refs/heads/master/machine_learning_algorithms_using_frameworks/python_files/regression/house_price_prediction/home.csv')\n",
        "#inputx = dataset.iloc[:, :-1].values\n",
        "inputx = dataset.iloc[:, 0:2].values\n",
        "outputy = dataset.iloc[:, 2].values\n",
        "print(outputy)\n",
        "\n",
        "\n",
        "# step 3: select one fourth of the data for testing and two thirds for training\n",
        "input_train, input_test, output_train, output_test = train_test_split(inputx, outputy, test_size = 1/4, random_state = 0)\n",
        "\n",
        "\n",
        "# step 4: selecting the simple Linear Regression model\n",
        "model = LinearRegression()\n",
        "print(\"\\nThe parameters of the model are\\n\\n\",model.get_params())\n",
        "#print(model.set_params())\n",
        "print(\"\\nThe model we are using is \", model.fit(input_train, output_train))\n",
        "\n",
        "\n",
        "# step 5: testing or model prediction using testinput\n",
        "squarefeet = float(input(\"\\nGive square feet of the house  \"))\n",
        "bedrooms = float(input(\"\\nGive the number of bed rooms in the house  \"))\n",
        "testinput = [[squarefeet,bedrooms]]\n",
        "predicted_output = model.predict(testinput)\n",
        "print('\\nThe test input is as follows ',testinput)\n",
        "print('\\nThe predicted house price is ',predicted_output)\n",
        "yes = input(\"\\nCan I proceed\\n\")\n",
        "\n",
        "\n",
        "# step 6: Printing the testing results\n",
        "print(\"\\nThe test input (square feet and the number of bed rooms) is as follows \\n\")\n",
        "print(input_test)\n",
        "# model predicting the Test set results\n",
        "predicted_output = model.predict(input_test)\n",
        "print(\"\\nThe predicted price of the house for the test input is as follows \\n\")\n",
        "print(predicted_output)"
      ],
      "metadata": {
        "colab": {
          "base_uri": "https://localhost:8080/"
        },
        "id": "qpY1HG-XZz_H",
        "outputId": "874b974f-98a8-4a75-b526-387fc499841b"
      },
      "execution_count": 1,
      "outputs": [
        {
          "output_type": "stream",
          "name": "stdout",
          "text": [
            "[329900 369000 232000 539900 299900 314900 198999 212000 242500 239999\n",
            " 347000 329999 699900 259900 449900 299900 199900 499998 599000 252900\n",
            " 255000 242900 259900 573900 249900 464500 469000 475000 299900 349900\n",
            " 169900 314900 579900 285900 249900 229900 345000 549000 287000 368500\n",
            " 329900 314000 299000 179900 299900 239500]\n",
            "\n",
            "The parameters of the model are\n",
            "\n",
            " {'copy_X': True, 'fit_intercept': True, 'n_jobs': None, 'positive': False}\n",
            "\n",
            "The model we are using is  LinearRegression()\n",
            "\n",
            "Give square feet of the house  2000\n",
            "\n",
            "Give the number of bed rooms in the house  3\n",
            "\n",
            "The test input is as follows  [[2000.0, 3.0]]\n",
            "\n",
            "The predicted house price is  [345143.89109912]\n",
            "\n",
            "Can I proceed\n",
            "yes\n",
            "\n",
            "The test input (square feet and the number of bed rooms) is as follows \n",
            "\n",
            "[[1458    3]\n",
            " [1962    4]\n",
            " [2637    3]\n",
            " [1985    4]\n",
            " [2000    3]\n",
            " [2040    4]\n",
            " [1839    2]\n",
            " [1890    3]\n",
            " [1888    2]\n",
            " [3137    3]\n",
            " [1000    1]\n",
            " [2162    4]]\n",
            "\n",
            "The predicted price of the house for the test input is as follows \n",
            "\n",
            "[268203.87932324 329342.1484953  435569.69829698 332607.13054483\n",
            " 345143.89109912 340414.69631545 332696.44118744 329528.75955789\n",
            " 339652.27251036 506547.56893893 224002.99868527 357733.29675208]\n"
          ]
        }
      ]
    },
    {
      "cell_type": "code",
      "source": [],
      "metadata": {
        "id": "J7m3_qBGkY3U"
      },
      "execution_count": null,
      "outputs": []
    },
    {
      "cell_type": "code",
      "source": [],
      "metadata": {
        "id": "ACxy1GnH8SBr"
      },
      "execution_count": null,
      "outputs": []
    }
  ]
}