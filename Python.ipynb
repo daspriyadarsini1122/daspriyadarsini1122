{
  "nbformat": 4,
  "nbformat_minor": 0,
  "metadata": {
    "colab": {
      "provenance": [],
      "authorship_tag": "ABX9TyOj/tdMVseeaWvoG+DW2ZAC",
      "include_colab_link": true
    },
    "kernelspec": {
      "name": "python3",
      "display_name": "Python 3"
    },
    "language_info": {
      "name": "python"
    }
  },
  "cells": [
    {
      "cell_type": "markdown",
      "metadata": {
        "id": "view-in-github",
        "colab_type": "text"
      },
      "source": [
        "<a href=\"https://colab.research.google.com/github/daspriyadarsini1122/daspriyadarsini1122/blob/master/Python.ipynb\" target=\"_parent\"><img src=\"https://colab.research.google.com/assets/colab-badge.svg\" alt=\"Open In Colab\"/></a>"
      ]
    },
    {
      "cell_type": "markdown",
      "source": [
        "**Introduction**\n",
        "\n",
        "- Created by Guido Rossum in 1989.\n",
        "- Is an Interpreted language with byte code compilation step with both object oriented and procedure oriented high level programming language with dynamic semantics\n",
        "\n",
        "**Who uses Python**\n",
        "\n",
        "- Youtube:- The popular YouTube video sharing service is largly written in Python.\n",
        "- Google:- Google makes extensive use of Pythonin its web search systems.\n",
        "- Dropbox:- Dropbox storage service codes both its server and desktop client software primarily in Python.\n",
        "- Raspberry:- The Raspberry Pi singleboard computer promotes Python as its educational language.\n",
        "- BitTorrent:- BitTorrent peer-to-peer file sharing system began its life as a Python program.\n",
        "- NASA:- NASA, Los Alamos, Fermilab, JPL, and others use Python for scientific programming tasks.\n",
        "- NSA:- The NSA uses python for cryptography & intelligence analysis.\n",
        "- Netflix:- Netflix & yelp both have documented the role of Python in their software infrastructures."
      ],
      "metadata": {
        "id": "m0FgL2cPwAUU"
      }
    },
    {
      "cell_type": "code",
      "source": [
        "#Operators:\n",
        "#Arithmetic Operators:-\n",
        "num1 = 10\n",
        "num2 = 20\n",
        "print(\"num1+num2=\",num1+num2)\n",
        "print(\"num1-num2=\",num1-num2)\n",
        "print(\"num1*num2=\",num1*num2)\n",
        "print(\"num1/num2=\",num1/num2)\n",
        "print('5^3 =', 5**3) # Powers to the base number\n",
        "print('20%3=', 20%3) # Gives reminder\n",
        "print('22//7', 22//7) # Round the value\n"
      ],
      "metadata": {
        "id": "cj8p7L-64PeF"
      },
      "execution_count": null,
      "outputs": []
    },
    {
      "cell_type": "code",
      "source": [
        "#Assignment Operators:-\n",
        "num3 = num1+num2\n",
        "print(num3)\n",
        "num3+=num2\n",
        "print(num3)\n",
        "# Like wise we can use /=, %=, //=, **="
      ],
      "metadata": {
        "id": "AmEOsYug4m3z"
      },
      "execution_count": null,
      "outputs": []
    },
    {
      "cell_type": "code",
      "source": [
        "# Comparison Operators:- It returns the boolean value\n",
        "print(\"Is num3 > num2 ?\", num3>num2)\n",
        "print(\"Is num3 = num2 ?\", num3==num2)\n",
        "print(\"Is num1 != num2 ?\", num1!=num2)"
      ],
      "metadata": {
        "id": "Js3dEWZm72qJ"
      },
      "execution_count": null,
      "outputs": []
    },
    {
      "cell_type": "code",
      "source": [
        "# Logical operators:-\n",
        "x = True #Reserved keyword\n",
        "y = False #Reserved keyword\n",
        "\n",
        "print(\"X and Y:\", x and y)\n",
        "print (\"X or Y:\", x or y)\n",
        "print (\"not of X:\", not x)"
      ],
      "metadata": {
        "colab": {
          "base_uri": "https://localhost:8080/"
        },
        "id": "3K6xUytEAYIr",
        "outputId": "c2e367fd-f902-4860-d2f7-7963e640c88d"
      },
      "execution_count": 8,
      "outputs": [
        {
          "output_type": "stream",
          "name": "stdout",
          "text": [
            "X and Y: False\n",
            "X or Y: True\n",
            "not of X: False\n"
          ]
        }
      ]
    },
    {
      "cell_type": "code",
      "source": [
        "# Bitwise Operators\n",
        "num4 = 6 #110\n",
        "num5 = 2 #010\n",
        "print(\"Bitwise AND:\", num4 & num5)\n",
        "print(\"Bitwise OR:\", num4 | num5)\n",
        "print(\"Bitwise XOR:\", num4 ^ num5)\n",
        "print(\"Num4 is right sift by 2:\", num4 >> 2) # 1 ( right 2 discarded)\n",
        "print(\"Num4 is left sift by 2:\", num4 << 2) # 01000 ( right 2 is filled with zero shifting the number to left)"
      ],
      "metadata": {
        "id": "GcG5BXzgBUzr"
      },
      "execution_count": null,
      "outputs": []
    },
    {
      "cell_type": "code",
      "source": [
        "# Identity operators:-\n",
        "x = 5\n",
        "print(\"x is 5 ?\", x is 5)\n",
        "print(\"x is not 5 ?\", x is not 5)"
      ],
      "metadata": {
        "id": "ievAtefvI0Gv"
      },
      "execution_count": null,
      "outputs": []
    },
    {
      "cell_type": "code",
      "source": [
        "# Membership operators:-\n",
        "x = [1,2,3,4,5]\n",
        "print(\"Is 3 in x ?\", 3 in x)\n",
        "print(\"Is 6 not in x ?\", 6 not in x)"
      ],
      "metadata": {
        "id": "4XrswFVkKCSi"
      },
      "execution_count": null,
      "outputs": []
    }
  ]
}